{
 "cells": [
  {
   "cell_type": "code",
   "execution_count": 1,
   "id": "734e42af",
   "metadata": {},
   "outputs": [
    {
     "name": "stdout",
     "output_type": "stream",
     "text": [
      "Collecting selenium\n",
      "  Downloading selenium-4.22.0-py3-none-any.whl (9.4 MB)\n",
      "Collecting trio-websocket~=0.9\n",
      "  Downloading trio_websocket-0.11.1-py3-none-any.whl (17 kB)\n",
      "Collecting typing_extensions>=4.9.0\n",
      "  Downloading typing_extensions-4.12.2-py3-none-any.whl (37 kB)\n",
      "Requirement already satisfied: certifi>=2021.10.8 in c:\\users\\dell\\anaconda3\\lib\\site-packages (from selenium) (2024.7.4)\n",
      "Collecting trio~=0.17\n",
      "  Downloading trio-0.26.0-py3-none-any.whl (475 kB)\n",
      "Requirement already satisfied: urllib3[socks]<3,>=1.26 in c:\\users\\dell\\anaconda3\\lib\\site-packages (from selenium) (1.26.4)\n",
      "Collecting websocket-client>=1.8.0\n",
      "  Downloading websocket_client-1.8.0-py3-none-any.whl (58 kB)\n",
      "Requirement already satisfied: cffi>=1.14 in c:\\users\\dell\\anaconda3\\lib\\site-packages (from trio~=0.17->selenium) (1.14.5)\n",
      "Collecting exceptiongroup\n",
      "  Downloading exceptiongroup-1.2.1-py3-none-any.whl (16 kB)\n",
      "Requirement already satisfied: idna in c:\\users\\dell\\anaconda3\\lib\\site-packages (from trio~=0.17->selenium) (2.10)\n",
      "Collecting outcome\n",
      "  Downloading outcome-1.3.0.post0-py2.py3-none-any.whl (10 kB)\n",
      "Collecting attrs>=23.2.0\n",
      "  Downloading attrs-23.2.0-py3-none-any.whl (60 kB)\n",
      "Collecting sniffio>=1.3.0\n",
      "  Downloading sniffio-1.3.1-py3-none-any.whl (10 kB)\n",
      "Requirement already satisfied: sortedcontainers in c:\\users\\dell\\anaconda3\\lib\\site-packages (from trio~=0.17->selenium) (2.3.0)\n",
      "Requirement already satisfied: pycparser in c:\\users\\dell\\anaconda3\\lib\\site-packages (from cffi>=1.14->trio~=0.17->selenium) (2.20)\n",
      "Collecting wsproto>=0.14\n",
      "  Downloading wsproto-1.2.0-py3-none-any.whl (24 kB)\n",
      "Requirement already satisfied: PySocks!=1.5.7,<2.0,>=1.5.6 in c:\\users\\dell\\anaconda3\\lib\\site-packages (from urllib3[socks]<3,>=1.26->selenium) (1.7.1)\n",
      "Collecting h11<1,>=0.9.0\n",
      "  Downloading h11-0.14.0-py3-none-any.whl (58 kB)\n",
      "Installing collected packages: attrs, sniffio, outcome, h11, exceptiongroup, wsproto, trio, websocket-client, typing-extensions, trio-websocket, selenium\n",
      "  Attempting uninstall: attrs\n",
      "    Found existing installation: attrs 20.3.0\n",
      "    Uninstalling attrs-20.3.0:\n",
      "      Successfully uninstalled attrs-20.3.0\n",
      "  Attempting uninstall: sniffio\n",
      "    Found existing installation: sniffio 1.2.0\n",
      "    Uninstalling sniffio-1.2.0:\n",
      "      Successfully uninstalled sniffio-1.2.0\n",
      "  Attempting uninstall: typing-extensions\n",
      "    Found existing installation: typing-extensions 3.7.4.3\n",
      "    Uninstalling typing-extensions-3.7.4.3:\n",
      "      Successfully uninstalled typing-extensions-3.7.4.3\n",
      "Successfully installed attrs-23.2.0 exceptiongroup-1.2.1 h11-0.14.0 outcome-1.3.0.post0 selenium-4.22.0 sniffio-1.3.1 trio-0.26.0 trio-websocket-0.11.1 typing-extensions-4.12.2 websocket-client-1.8.0 wsproto-1.2.0\n"
     ]
    }
   ],
   "source": [
    "#!pip install selenium"
   ]
  },
  {
   "cell_type": "code",
   "execution_count": 24,
   "id": "4300ae1d",
   "metadata": {},
   "outputs": [],
   "source": [
    "from selenium import webdriver\n",
    "from selenium.webdriver.common.by import By\n",
    "from selenium.webdriver.support.ui import WebDriverWait\n",
    "from selenium.webdriver.support import expected_conditions as EC\n",
    "import csv\n",
    "import re"
   ]
  },
  {
   "cell_type": "code",
   "execution_count": 20,
   "id": "9d20353d",
   "metadata": {},
   "outputs": [],
   "source": [
    "mari=webdriver.Chrome()"
   ]
  },
  {
   "cell_type": "code",
   "execution_count": 21,
   "id": "034fdcf2",
   "metadata": {},
   "outputs": [],
   "source": [
    "mari.get(\"https://www.amazon.eg/s?k=samsung&rh=p_89%3Asamsung&language=en&ref=SQEG-WEB-SR301\")"
   ]
  },
  {
   "cell_type": "code",
   "execution_count": 22,
   "id": "5f6f7c7c",
   "metadata": {},
   "outputs": [],
   "source": [
    "wait = WebDriverWait(mari, 10)"
   ]
  },
  {
   "cell_type": "code",
   "execution_count": 25,
   "id": "5179a581",
   "metadata": {},
   "outputs": [
    {
     "name": "stdout",
     "output_type": "stream",
     "text": [
      "[('50 Inch 4K UHD Smart LED TV - Black - UA50DU7000UXEG [2024 Model]',), '16,799', ('4.0 out of 5',), ('12',), ('https://m.media-amazon.com/images/G/42/UAE-hq/2023/img/Prime/XCM_Manual_1544175_5396723_1500x300_2X._CB593029270_.jpg',)]\n",
      "[('Galaxy A55 5G, Android Smartphone, Dual SIM Mobile Phone, 8GB RAM, 256GB Storage, Awesome Navy - 1 year Warranty',), '17,999', ('4.0 out of 5',), ('129',), ('https://m.media-amazon.com/images/I/61aLpgXQTVL._AC_UL320_.jpg',)]\n",
      "[('Galaxy A15 Dual SIM 6GB Ram+128GB ROM (6.5 Inches) (4G LTE) - (Light Blue)',), '6,649', ('4.0 out of 5',), ('880',), ('https://m.media-amazon.com/images/I/61ERH+yIyiL._AC_UL320_.jpg',)]\n",
      "[('Galaxy A05 LTE, Android Smartphone, Dual SIM, 6GB RAM, 128GB Storage, Black - 1 year Warranty',), '6,400', ('4.0 out of 5',), ('34',), ('https://m.media-amazon.com/images/I/61cl1NEIrdL._AC_UL320_.jpg',)]\n",
      "[('Galaxy A35 5G, Android Smartphone, Dual SIM Mobile Phone, 8GB RAM, 256GB Storage, Awesome Navy',), '14,399', ('3.8 out of 5',), ('54',), ('https://m.media-amazon.com/images/I/61xn0PNMjIL._AC_UL320_.jpg',)]\n",
      "[('55 Inch TV Crystal Processor 4K LED with Built-in Receiver - Black - UA55CU8000UXEG [2023 Model]',), '18,299', ('4.0 out of 5',), ('310',), ('https://m.media-amazon.com/images/I/61Dz4UF90XL._AC_UL320_.jpg',)]\n",
      "[('Galaxy A05 LTE, Android Smartphone, Dual SIM Mobile Phone, 4GB RAM, 128GB Storage, Black',), '5,699', ('3.8 out of 5',), ('51',), ('https://m.media-amazon.com/images/I/61tIUqwUlCL._AC_UL320_.jpg',)]\n",
      "[('60 Inch 4K UHD Smart LED TV - Black - UA60DU7000UXEG [2024 Model]',), '18,999', ('4.0 out of 5',), ('129',), ('https://m.media-amazon.com/images/I/71dYQdmhwFL._AC_UL320_.jpg',)]\n",
      "[('Galaxy A55 5G, Android Smartphone, Dual SIM Mobile Phone, 8GB RAM, 256GB Storage, Awesome Lemon - 1 year Warranty',), '17,999', ('4.1 out of 5',), ('40',), ('https://m.media-amazon.com/images/I/61aLpgXQTVL._AC_UL320_.jpg',)]\n",
      "[('A25 8-256 Light Blue',), '10,499', ('3.8 out of 5',), ('880',), ('https://m.media-amazon.com/images/I/71Azxw1VWeL._AC_UL320_.jpg',)]\n",
      "[('Galaxy A15 Dual SIM 8GB Ram+256GGB ROM (6.5 Inches) (4G LTE) - (Light Blue)',), '8,199', ('3.9 out of 5',), ('50',), ('https://m.media-amazon.com/images/I/614qsXB-XUL._AC_UL320_.jpg',)]\n",
      "[('WASHING MACHINE 9KG 1400RPM DIGITAL INVERTER STEAM INOX WW90T4040CX1AS- (local warranty)',), '20,899', ('4.0 out of 5',), ('12',), ('https://m.media-amazon.com/images/I/51Cida8RecL._AC_UL320_.jpg',)]\n",
      "[('55 Inch 4K UHD Smart LED TV - Black - UA55DU7000UXEG [2024 Model]',), '17,999', ('3.8 out of 5',), ('42',), ('https://m.media-amazon.com/images/I/51H0kUL24XL._AC_UL320_.jpg',)]\n",
      "[('A04S 3GB Ram, 32GB - Black',), '7,499', ('4.0 out of 5',), ('57',), ('https://m.media-amazon.com/images/I/61aLpgXQTVL._AC_UL320_.jpg',)]\n",
      "[('Galaxy M33, Dual SIM, 8GB RAM, 128GB Storage, 5G, Brown - 1 year Warranty',), '5,945', ('4.1 out of 5',), ('255',), ('https://m.media-amazon.com/images/I/51P4huodC+L._AC_UL320_.jpg',)]\n",
      "[('Galaxy A05s, Android Smartphone, Dual SIM Mobile Phone, LTE, 6GB RAM, 128GB Storage, Black',), '8,599', ('4.0 out of 5',), ('31',), ('https://m.media-amazon.com/images/I/71rc4wx5L5L._AC_UL320_.jpg',)]\n",
      "[('Galaxy A25 5G, Android Smartphone, Dual SIM Mobile Phone, 6GB RAM, 128GB Storage, Black - 1 year Warranty',), '8,099', ('4.0 out of 5',), ('880',), ('https://m.media-amazon.com/images/I/61jBR+KUEDL._AC_UL320_.jpg',)]\n",
      "[('Galaxy A15 Dual SIM 8GB Ram+256GGB ROM (6.5 Inches) (4G LTE) - (Black)',), '14,699', ('4.0 out of 5',), ('12',), ('https://m.media-amazon.com/images/I/61n8R-QRkUL._AC_UL320_.jpg',)]\n",
      "[('43 Inch 4K UHD Smart LED TV - Black - UA43DU7000UXEG [2024 Model]',), '3,799', ('4.0 out of 5',), ('42',), ('https://m.media-amazon.com/images/I/514nSB8S9pL._AC_UL320_.jpg',)]\n",
      "[('Canister VC18M2120SB Vacuum Cleaner With Cyclone Force And Anti-Tangle Turbine, 1800W, 1.5L, Blue - (local warranty)',), '46,899', ('4.0 out of 5',), ('463',), ('https://m.media-amazon.com/images/I/61aLpgXQTVL._AC_UL320_.jpg',)]\n",
      "[('Galaxy S24 Ultra, AI Android Smartphone, 256GB Storage, 12GB RAM, 200MP Camera, S Pen, Long Battery Life, Titanium Black - 1 year Local Warranty',), '13,999', ('4.0 out of 5',), ('1',), ('https://m.media-amazon.com/images/I/51zQzrdv0iL._AC_UL320_.jpg',)]\n",
      "[('43 Inch TV Crystal Processor 4K LED - Titan Gray - UA43DU8000UXEG [2024 Model]',), '17,999', ('4.1 out of 5',), ('129',), ('https://m.media-amazon.com/images/I/71+WncNIt7L._AC_UL320_.jpg',)]\n",
      "[('Galaxy A55 5G, Android Smartphone, Dual SIM Mobile Phone, 8GB RAM, 256GB Storage, Awesome Lilac - 1 year Warranty',), '17,999', ('4.0 out of 5',), ('129',), ('https://m.media-amazon.com/images/I/61mSsqaxrHL._AC_UL320_.jpg',)]\n",
      "[('Galaxy A55 5G, Android Smartphone, Dual SIM Mobile Phone, 8GB RAM, 256GB Storage, Awesome Iceblue - 1 year Warranty',), '27,999', ('3.9 out of 5',), ('106',), ('https://m.media-amazon.com/images/I/71HHuzT9m2L._AC_UL320_.jpg',)]\n",
      "[('RB34T671FS9 No Frost 344 Liters - 13 Cubic Feet Refrigerator with Freezer on Bottom, Silver- (local warranty)',), '5,395', ('3.8 out of 5',), ('255',), ('https://m.media-amazon.com/images/I/71iDfC-A+GL._AC_UL320_.jpg',)]\n",
      "[('Galaxy A05s, Android Smartphone, Dual SIM Mobile Phone, LTE, 4GB RAM, 128GB Storage, Silver',), '23,399', ('3.9 out of 5',), ('12',), ('https://m.media-amazon.com/images/I/41wnwn6GjOL._AC_UL320_.jpg',)]\n",
      "[('65 Inch 4K UHD Smart LED TV - Black - UA65DU7000UXEG [2024 Model]',), '13,333', ('4.0 out of 5',), ('54',), ('https://m.media-amazon.com/images/I/61SDL9BHt6L._AC_UL320_.jpg',)]\n",
      "[('Galaxy A35 5G, Android Smartphone, Dual SIM Mobile Phone, 8GB RAM, 128GB Storage, Awesome Navy (UAE Version)',), '6,290', ('4.0 out of 5',), ('880',), ('https://m.media-amazon.com/images/I/61aLpgXQTVL._AC_UL320_.jpg',)]\n"
     ]
    }
   ],
   "source": [
    "images = wait.until(EC.presence_of_all_elements_located((By.XPATH, \".//img[@class='s-image']\")))\n",
    "titles = wait.until(EC.presence_of_all_elements_located((By.XPATH, \".//span[@class='a-size-base-plus a-color-base a-text-normal']\")))\n",
    "reviews = wait.until(EC.presence_of_all_elements_located((By.XPATH, \".//i[@class='a-icon a-icon-star-small a-star-small-4 aok-align-bottom']\")))\n",
    "total_reviews = wait.until(EC.presence_of_all_elements_located((By.XPATH, \".//span[@class='a-size-base s-underline-text']\")))\n",
    "prices = wait.until(EC.presence_of_all_elements_located((By.XPATH, \".//span[@class='a-price-whole']\")))\n",
    "\n",
    "\n",
    "output = []\n",
    "\n",
    "num_items = min(len(titles), len(images) ,len(reviews), len(total_reviews), len(prices))\n",
    "\n",
    "for i in range(num_items):\n",
    "    \n",
    "    raw_review = reviews[i].get_attribute('innerHTML').strip()\n",
    "    clean_review = re.search(r'(\\d+\\.\\d+) out of 5 stars', raw_review)\n",
    "    clean_review = clean_review.group(1) + \" out of 5\" if clean_review else \"No rating\"\n",
    "\n",
    "    \n",
    "    Title = titles[i].text,\n",
    "    Image = images[i].get_attribute('src'),\n",
    "    Reviews = clean_review,\n",
    "    Total_Reviews = total_reviews[i].text,\n",
    "    Price = prices[i].text\n",
    "    \n",
    "    output.append([Title, Price, Reviews, Total_Reviews , Image])\n",
    "\n",
    "\n",
    "for item in output:\n",
    "    print(item)\n",
    "    \n",
    "mari.quit()\n"
   ]
  },
  {
   "cell_type": "code",
   "execution_count": 26,
   "id": "05b75fea",
   "metadata": {},
   "outputs": [
    {
     "name": "stdout",
     "output_type": "stream",
     "text": [
      "CSV file has been created.\n"
     ]
    }
   ],
   "source": [
    "with open('Samsung_Tablets.csv', 'w', newline='',encoding='utf-8') as file:\n",
    "    writer = csv.writer(file)\n",
    "    writer.writerow([\"Title\", \"Price\",\"Reviews\", \"Total Reviews\",\"Image\"])\n",
    "    writer.writerows(output)\n",
    "\n",
    "print(\"CSV file has been created.\")"
   ]
  },
  {
   "cell_type": "code",
   "execution_count": null,
   "id": "0bf1fc65",
   "metadata": {},
   "outputs": [],
   "source": []
  }
 ],
 "metadata": {
  "kernelspec": {
   "display_name": "Python 3",
   "language": "python",
   "name": "python3"
  },
  "language_info": {
   "codemirror_mode": {
    "name": "ipython",
    "version": 3
   },
   "file_extension": ".py",
   "mimetype": "text/x-python",
   "name": "python",
   "nbconvert_exporter": "python",
   "pygments_lexer": "ipython3",
   "version": "3.8.8"
  }
 },
 "nbformat": 4,
 "nbformat_minor": 5
}
